{
 "cells": [
  {
   "cell_type": "code",
   "execution_count": 2,
   "id": "e6af1112",
   "metadata": {},
   "outputs": [],
   "source": [
    "import numpy as np\n",
    "import pandas as pd\n",
    "import yfinance as yf"
   ]
  },
  {
   "cell_type": "code",
   "execution_count": 19,
   "id": "e0b00ede",
   "metadata": {},
   "outputs": [
    {
     "name": "stdout",
     "output_type": "stream",
     "text": [
      "[*********************100%***********************]  1 of 1 completed\n",
      "[*********************100%***********************]  1 of 1 completed\n",
      "[*********************100%***********************]  1 of 1 completed\n",
      "[*********************100%***********************]  1 of 1 completed\n",
      "[*********************100%***********************]  1 of 1 completed\n",
      "[*********************100%***********************]  1 of 1 completed\n",
      "[*********************100%***********************]  1 of 1 completed\n",
      "[*********************100%***********************]  1 of 1 completed\n",
      "[*********************100%***********************]  1 of 1 completed\n",
      "[*********************100%***********************]  1 of 1 completed\n"
     ]
    }
   ],
   "source": [
    "INFY = yf.download(\"INFY\" , \"2010-01-01\" , \"2023-05-01\")\n",
    "TATASTEEL = yf.download(\"TATASTEEL.NS\" , \"2010-01-01\" , \"2023-05-01\")\n",
    "ADANIPOWER = yf.download(\"ADANIPOWER.NS\" , \"2010-01-01\" , \"2023-05-01\")\n",
    "SBIN = yf.download(\"SBIN.NS\" , \"2010-01-01\" , \"2023-05-01\")\n",
    "BAJAJAUTO = yf.download(\"BAJAJ-AUTO.NS\" , \"2010-01-01\" , \"2023-05-01\")\n",
    "Dow = yf.download(\"^DJI\" , \"2010-01-01\" , \"2023-05-01\")\n",
    "nekk = yf.download(\"^N225\" , \"2010-01-01\" , \"2023-05-01\")\n",
    "sp = yf.download(\"^GSPC\" , \"2010-01-01\" , \"2023-05-01\")\n",
    "nas = yf.download(\"^IXIC\" , \"2010-01-01\" , \"2023-05-01\")\n",
    "ft = yf.download(\"^FTSE\" , \"2010-01-01\" , \"2023-05-01\")\n",
    "nasdaq = pd.DataFrame(nas)\n",
    "sp = pd.DataFrame(sp)\n",
    "nekkei = pd.DataFrame(nekk)\n",
    "dow_jones = pd.DataFrame(Dow)\n",
    "ftse = pd.DataFrame(ft)\n",
    "infy = pd.DataFrame(INFY)\n",
    "tata_steel = pd.DataFrame(TATASTEEL)\n",
    "ad_power = pd.DataFrame(ADANIPOWER)\n",
    "sbi = pd.DataFrame(SBIN)\n",
    "b_auto = pd.DataFrame(BAJAJAUTO)"
   ]
  },
  {
   "cell_type": "code",
   "execution_count": 27,
   "id": "ce80afdd",
   "metadata": {},
   "outputs": [],
   "source": [
    "def daily_returns(df):\n",
    "    daily = ((df[\"Close\"]/df[\"Open\"]) - 1)*100\n",
    "    return daily"
   ]
  },
  {
   "cell_type": "code",
   "execution_count": 22,
   "id": "7f7bcdb6",
   "metadata": {},
   "outputs": [],
   "source": [
    "#cummulative returns\n",
    "def cummulative_returns(df):\n",
    "    cummulative_returns = ((df[\"Close\"].sum()/df[\"Open\"].sum())-1)*100\n",
    "    return cummulative_returns"
   ]
  },
  {
   "cell_type": "code",
   "execution_count": 80,
   "id": "bfbc1c02",
   "metadata": {},
   "outputs": [],
   "source": [
    "def volatility(df):\n",
    "    volatility = np.sqrt(252) * df['Daily Returns'].std()\n",
    "\n",
    "    return volatility"
   ]
  },
  {
   "cell_type": "code",
   "execution_count": 23,
   "id": "ab260773",
   "metadata": {},
   "outputs": [],
   "source": [
    "#maximum drawdown\n",
    "def max_drawdown(return_series):\n",
    "    comp_ret = (return_series+1).cumprod()\n",
    "    peak = comp_ret.expanding(min_periods=1).max()\n",
    "    dd = (comp_ret/peak)-1\n",
    "    return dd.min()"
   ]
  },
  {
   "cell_type": "code",
   "execution_count": 44,
   "id": "01da0758",
   "metadata": {},
   "outputs": [],
   "source": [
    "#sharpe ratio\n",
    "def sharpe_ratio(return_series, N, rf = 0.8):\n",
    "    mean = return_series.mean() * N -rf\n",
    "    sigma = return_series.std() * np.sqrt(N)\n",
    "    return mean / sigma"
   ]
  },
  {
   "cell_type": "code",
   "execution_count": 45,
   "id": "f21f8e0a",
   "metadata": {},
   "outputs": [],
   "source": [
    "#sortino ratio\n",
    "def sortino_ratio(series, N ,rf = 0.8):\n",
    "    mean = series.mean() * N -rf\n",
    "    std_neg = series[series<0].std()*np.sqrt(N)\n",
    "    return mean/std_neg"
   ]
  },
  {
   "cell_type": "code",
   "execution_count": 46,
   "id": "039f1040",
   "metadata": {},
   "outputs": [],
   "source": [
    "nasdaq[\"Daily Returns\"] = daily_returns(nasdaq)\n",
    "sp[\"Daily Returns\"] = daily_returns(sp)\n",
    "dow_jones[\"Daily Returns\"] = daily_returns(dow_jones)\n",
    "nekkei[\"Daily Returns\"] = daily_returns(nekkei)\n",
    "ftse[\"Daily Returns\"] = daily_returns(ftse)\n",
    "infy[\"Daily Returns\"] = daily_returns(infy)\n",
    "tata_steel[\"Daily Returns\"] = daily_returns(tata_steel)\n",
    "ad_power[\"Daily Returns\"] = daily_returns(ad_power)\n",
    "sbi[\"Daily Returns\"] = daily_returns(sbi)\n",
    "b_auto[\"Daily Returns\"] = daily_returns(b_auto)"
   ]
  },
  {
   "cell_type": "code",
   "execution_count": 123,
   "id": "d61fc20e",
   "metadata": {},
   "outputs": [
    {
     "data": {
      "text/plain": [
       "0.010744656739936076"
      ]
     },
     "execution_count": 123,
     "metadata": {},
     "output_type": "execute_result"
    }
   ],
   "source": [
    "cumm = cummulative_returns(ftse)\n",
    "max_d = max_drawdown(ftse[\"Daily Returns\"])\n",
    "sortino = sortino_ratio(ftse[\"Daily Returns\"],len(ftse[\"Daily Returns\"]))\n",
    "vola = volatility(ftse)\n",
    "sharpe = sharpe_ratio(ftse[\"Daily Returns\"],len(ftse[\"Daily Returns\"]))\n",
    "cumm"
   ]
  },
  {
   "cell_type": "code",
   "execution_count": 124,
   "id": "9708995c",
   "metadata": {},
   "outputs": [
    {
     "data": {
      "text/plain": [
       "16.252416946145253"
      ]
     },
     "execution_count": 124,
     "metadata": {},
     "output_type": "execute_result"
    }
   ],
   "source": [
    "vola"
   ]
  },
  {
   "cell_type": "code",
   "execution_count": 125,
   "id": "d4cfc1d6",
   "metadata": {},
   "outputs": [
    {
     "data": {
      "text/plain": [
       "0.8988818048258275"
      ]
     },
     "execution_count": 125,
     "metadata": {},
     "output_type": "execute_result"
    }
   ],
   "source": [
    "sharpe"
   ]
  },
  {
   "cell_type": "code",
   "execution_count": 126,
   "id": "2f79c737",
   "metadata": {},
   "outputs": [
    {
     "data": {
      "text/plain": [
       "1.1611549480609151"
      ]
     },
     "execution_count": 126,
     "metadata": {},
     "output_type": "execute_result"
    }
   ],
   "source": [
    "sortino"
   ]
  },
  {
   "cell_type": "code",
   "execution_count": 127,
   "id": "138f5b36",
   "metadata": {},
   "outputs": [
    {
     "data": {
      "text/plain": [
       "-1.287484024231122"
      ]
     },
     "execution_count": 127,
     "metadata": {},
     "output_type": "execute_result"
    }
   ],
   "source": [
    "max_d"
   ]
  }
 ],
 "metadata": {
  "kernelspec": {
   "display_name": "Python 3 (ipykernel)",
   "language": "python",
   "name": "python3"
  },
  "language_info": {
   "codemirror_mode": {
    "name": "ipython",
    "version": 3
   },
   "file_extension": ".py",
   "mimetype": "text/x-python",
   "name": "python",
   "nbconvert_exporter": "python",
   "pygments_lexer": "ipython3",
   "version": "3.9.12"
  }
 },
 "nbformat": 4,
 "nbformat_minor": 5
}
